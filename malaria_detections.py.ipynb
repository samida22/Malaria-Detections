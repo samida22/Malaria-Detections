{
 "cells": [
  {
   "cell_type": "code",
   "execution_count": 43,
   "id": "48761fad",
   "metadata": {},
   "outputs": [],
   "source": [
    "import numpy as np\n",
    "\n",
    "#Set the `numpy` pseudo-random generator at a fixed value\n",
    "#This helps with repeatable results everytime you run the code. \n",
    "np.random.seed(1000)\n",
    "\n",
    "import matplotlib.pyplot as plt\n",
    "import os\n",
    "import cv2\n",
    "from PIL import Image\n",
    "import keras\n",
    "\n"
   ]
  },
  {
   "cell_type": "code",
   "execution_count": 44,
   "id": "7d2583c5",
   "metadata": {},
   "outputs": [],
   "source": [
    "import keras"
   ]
  },
  {
   "cell_type": "code",
   "execution_count": 45,
   "id": "96f1a690",
   "metadata": {},
   "outputs": [],
   "source": [
    "import tensorflow as tf"
   ]
  },
  {
   "cell_type": "code",
   "execution_count": 46,
   "id": "d6b9d06c",
   "metadata": {},
   "outputs": [],
   "source": [
    "image_directory = '/home/kawaii/opencvprojects/Maliria Detections/imagesOfMalaria/'\n",
    "\n",
    "SIZE = 64\n",
    "dataset = []  #Many ways to handle data, you can use pandas. Here, we are using a list format.  \n",
    "label = []  #Place holders to define add labels. We will add 0 to all parasitized images and 1 to uninfected.\n",
    "\n",
    "parasitized_images = os.listdir(image_directory + 'Parasitized/')\n",
    "for i, image_name in enumerate(parasitized_images):    #Remember enumerate method adds a counter and returns the enumerate object\n",
    "    \n",
    "    if (image_name.split('.')[1] == 'png'):\n",
    "        image = cv2.imread(image_directory + 'Parasitized/' + image_name)\n",
    "        image = Image.fromarray(image, 'RGB')\n",
    "        image = image.resize((SIZE, SIZE))\n",
    "        dataset.append(np.array(image))\n",
    "        #we are giving label 0 for parasitised image\n",
    "        label.append(0)\n"
   ]
  },
  {
   "cell_type": "code",
   "execution_count": 47,
   "id": "c00b04f3",
   "metadata": {},
   "outputs": [
    {
     "data": {
      "text/plain": [
       "['C38P3thinF_original_IMG_20150621_112043_cell_202.png',\n",
       " 'C144P105ThinF_IMG_20151015_155149_cell_308.png',\n",
       " 'C81P42ThinF_IMG_20150817_120524_cell_186.png']"
      ]
     },
     "execution_count": 47,
     "metadata": {},
     "output_type": "execute_result"
    }
   ],
   "source": [
    "parasitized_images[:3]"
   ]
  },
  {
   "cell_type": "code",
   "execution_count": 48,
   "id": "dc08e023",
   "metadata": {},
   "outputs": [],
   "source": [
    "uninfected_images = os.listdir(image_directory + 'Uninfected/')\n",
    "for i, image_name in enumerate(uninfected_images):\n",
    "    if (image_name.split('.')[1] == 'png'):\n",
    "        image = cv2.imread(image_directory + 'Uninfected/' + image_name)\n",
    "        image = Image.fromarray(image, 'RGB')\n",
    "        image = image.resize((SIZE, SIZE))\n",
    "        dataset.append(np.array(image))\n",
    "        #we are labeling uninfected image as 1\n",
    "        label.append(1)\n"
   ]
  },
  {
   "cell_type": "code",
   "execution_count": 49,
   "id": "12daa066",
   "metadata": {},
   "outputs": [
    {
     "data": {
      "text/plain": [
       "['C186P147NThinF_IMG_20151203_150557_cell_141.png',\n",
       " 'C186P147NThinF_IMG_20151203_150859_cell_82.png',\n",
       " 'C232ThinF_IMG_20151112_154251_cell_276.png']"
      ]
     },
     "execution_count": 49,
     "metadata": {},
     "output_type": "execute_result"
    }
   ],
   "source": [
    "uninfected_images[:3]"
   ]
  },
  {
   "cell_type": "code",
   "execution_count": 50,
   "id": "68126ddd",
   "metadata": {},
   "outputs": [],
   "source": [
    "#splitting the datasets\n",
    "import keras\n",
    "from sklearn.model_selection import train_test_split\n",
    "from tensorflow.keras.utils import to_categorical\n"
   ]
  },
  {
   "cell_type": "code",
   "execution_count": 51,
   "id": "3cea3b3b",
   "metadata": {},
   "outputs": [],
   "source": [
    "\n",
    "\n",
    "X_train, X_test, y_train, y_test = train_test_split(dataset, to_categorical(np.array(label)), test_size = 0.20, random_state = 0)\n"
   ]
  },
  {
   "cell_type": "code",
   "execution_count": 52,
   "id": "269656f3",
   "metadata": {},
   "outputs": [
    {
     "name": "stdout",
     "output_type": "stream",
     "text": [
      "Model: \"model_1\"\n",
      "_________________________________________________________________\n",
      "Layer (type)                 Output Shape              Param #   \n",
      "=================================================================\n",
      "input_4 (InputLayer)         [(None, 64, 64, 3)]       0         \n",
      "_________________________________________________________________\n",
      "conv2d_5 (Conv2D)            (None, 64, 64, 32)        896       \n",
      "_________________________________________________________________\n",
      "max_pooling2d_4 (MaxPooling2 (None, 32, 32, 32)        0         \n",
      "_________________________________________________________________\n",
      "batch_normalization_8 (Batch (None, 32, 32, 32)        128       \n",
      "_________________________________________________________________\n",
      "dropout_8 (Dropout)          (None, 32, 32, 32)        0         \n",
      "_________________________________________________________________\n",
      "conv2d_6 (Conv2D)            (None, 32, 32, 32)        9248      \n",
      "_________________________________________________________________\n",
      "max_pooling2d_5 (MaxPooling2 (None, 16, 16, 32)        0         \n",
      "_________________________________________________________________\n",
      "batch_normalization_9 (Batch (None, 16, 16, 32)        128       \n",
      "_________________________________________________________________\n",
      "dropout_9 (Dropout)          (None, 16, 16, 32)        0         \n",
      "_________________________________________________________________\n",
      "flatten_2 (Flatten)          (None, 8192)              0         \n",
      "_________________________________________________________________\n",
      "dense_6 (Dense)              (None, 512)               4194816   \n",
      "_________________________________________________________________\n",
      "batch_normalization_10 (Batc (None, 512)               2048      \n",
      "_________________________________________________________________\n",
      "dropout_10 (Dropout)         (None, 512)               0         \n",
      "_________________________________________________________________\n",
      "dense_7 (Dense)              (None, 256)               131328    \n",
      "_________________________________________________________________\n",
      "batch_normalization_11 (Batc (None, 256)               1024      \n",
      "_________________________________________________________________\n",
      "dropout_11 (Dropout)         (None, 256)               0         \n",
      "_________________________________________________________________\n",
      "dense_8 (Dense)              (None, 2)                 514       \n",
      "=================================================================\n",
      "Total params: 4,340,130\n",
      "Trainable params: 4,338,466\n",
      "Non-trainable params: 1,664\n",
      "_________________________________________________________________\n",
      "None\n"
     ]
    }
   ],
   "source": [
    "#lets define the model\n",
    "INPUT_SHAPE = (SIZE, SIZE, 3)   \n",
    "inputs = keras.layers.Input(shape=INPUT_SHAPE)\n",
    "\n",
    "conv1 = keras.layers.Conv2D(32, kernel_size=(3, 3), \n",
    "                               activation='relu', padding='same')(inputs)\n",
    "pool1 = keras.layers.MaxPooling2D(pool_size=(2, 2))(conv1)\n",
    "norm1 = keras.layers.BatchNormalization(axis = -1)(pool1)\n",
    "drop1 = keras.layers.Dropout(rate=0.2)(norm1)\n",
    "conv2 = keras.layers.Conv2D(32, kernel_size=(3, 3), \n",
    "                               activation='relu', padding='same')(drop1)\n",
    "pool2 = keras.layers.MaxPooling2D(pool_size=(2, 2))(conv2)\n",
    "norm2 = keras.layers.BatchNormalization(axis = -1)(pool2)\n",
    "drop2 = keras.layers.Dropout(rate=0.2)(norm2)\n",
    "#Flatten the matrix for dense.\n",
    "flat = keras.layers.Flatten()(drop2)  \n",
    "\n",
    "hidden1 = keras.layers.Dense(512, activation='relu')(flat)\n",
    "norm3 = keras.layers.BatchNormalization(axis = -1)(hidden1)\n",
    "drop3 = keras.layers.Dropout(rate=0.2)(norm3)\n",
    "hidden2 = keras.layers.Dense(256, activation='relu')(drop3)\n",
    "norm4 = keras.layers.BatchNormalization(axis = -1)(hidden2)\n",
    "drop4 = keras.layers.Dropout(rate=0.2)(norm4)\n",
    "\n",
    "out = keras.layers.Dense(2, activation='sigmoid')(drop4)   \n",
    "\n",
    "model = keras.Model(inputs=inputs, outputs=out)\n",
    "#Check between binary_crossentropy and categorical_crossentropy\n",
    "model.compile(optimizer='adam',\n",
    "                loss='categorical_crossentropy',  \n",
    "                metrics=['accuracy'])\n",
    "print(model.summary())"
   ]
  },
  {
   "cell_type": "code",
   "execution_count": 60,
   "id": "dd50f778",
   "metadata": {},
   "outputs": [
    {
     "name": "stdout",
     "output_type": "stream",
     "text": [
      "Epoch 1/50\n",
      "311/311 [==============================] - 29s 93ms/step - loss: 0.0045 - accuracy: 0.9990 - val_loss: 0.3272 - val_accuracy: 0.9537\n",
      "Epoch 2/50\n",
      "311/311 [==============================] - 30s 96ms/step - loss: 0.0047 - accuracy: 0.9984 - val_loss: 0.4324 - val_accuracy: 0.9420\n",
      "Epoch 3/50\n",
      "311/311 [==============================] - 30s 96ms/step - loss: 0.0040 - accuracy: 0.9990 - val_loss: 0.3156 - val_accuracy: 0.9524\n",
      "Epoch 4/50\n",
      "311/311 [==============================] - 31s 99ms/step - loss: 0.0017 - accuracy: 0.9994 - val_loss: 0.3332 - val_accuracy: 0.9565\n",
      "Epoch 5/50\n",
      "311/311 [==============================] - 32s 104ms/step - loss: 0.0012 - accuracy: 0.9997 - val_loss: 0.3754 - val_accuracy: 0.9565\n",
      "Epoch 6/50\n",
      "311/311 [==============================] - 32s 104ms/step - loss: 9.7299e-04 - accuracy: 0.9996 - val_loss: 0.3497 - val_accuracy: 0.9560\n",
      "Epoch 7/50\n",
      "311/311 [==============================] - 32s 103ms/step - loss: 0.0031 - accuracy: 0.9992 - val_loss: 0.2969 - val_accuracy: 0.9501\n",
      "Epoch 8/50\n",
      "311/311 [==============================] - 32s 101ms/step - loss: 0.0038 - accuracy: 0.9989 - val_loss: 0.5318 - val_accuracy: 0.9510\n",
      "Epoch 9/50\n",
      "311/311 [==============================] - 33s 106ms/step - loss: 0.0037 - accuracy: 0.9989 - val_loss: 0.3778 - val_accuracy: 0.9497\n",
      "Epoch 10/50\n",
      "311/311 [==============================] - 34s 110ms/step - loss: 0.0025 - accuracy: 0.9991 - val_loss: 0.3759 - val_accuracy: 0.9569\n",
      "Epoch 11/50\n",
      "311/311 [==============================] - 32s 102ms/step - loss: 0.0017 - accuracy: 0.9994 - val_loss: 0.3359 - val_accuracy: 0.9565\n",
      "Epoch 12/50\n",
      "311/311 [==============================] - 32s 102ms/step - loss: 0.0015 - accuracy: 0.9995 - val_loss: 0.3388 - val_accuracy: 0.9565\n",
      "Epoch 13/50\n",
      "311/311 [==============================] - 33s 105ms/step - loss: 0.0030 - accuracy: 0.9992 - val_loss: 0.2758 - val_accuracy: 0.9578\n",
      "Epoch 14/50\n",
      "311/311 [==============================] - 33s 106ms/step - loss: 0.0030 - accuracy: 0.9992 - val_loss: 0.3023 - val_accuracy: 0.9565\n",
      "Epoch 15/50\n",
      "311/311 [==============================] - 32s 103ms/step - loss: 0.0042 - accuracy: 0.9985 - val_loss: 0.3825 - val_accuracy: 0.9497\n",
      "Epoch 16/50\n",
      "311/311 [==============================] - 33s 107ms/step - loss: 0.0043 - accuracy: 0.9985 - val_loss: 0.2959 - val_accuracy: 0.9619\n",
      "Epoch 17/50\n",
      "311/311 [==============================] - 33s 105ms/step - loss: 0.0027 - accuracy: 0.9993 - val_loss: 0.2370 - val_accuracy: 0.9560\n",
      "Epoch 18/50\n",
      "311/311 [==============================] - 34s 109ms/step - loss: 0.0021 - accuracy: 0.9993 - val_loss: 0.3308 - val_accuracy: 0.9624\n",
      "Epoch 19/50\n",
      "311/311 [==============================] - 39s 125ms/step - loss: 0.0017 - accuracy: 0.9994 - val_loss: 0.3954 - val_accuracy: 0.9546\n",
      "Epoch 20/50\n",
      "311/311 [==============================] - 44s 142ms/step - loss: 0.0011 - accuracy: 0.9995 - val_loss: 0.3792 - val_accuracy: 0.9565\n",
      "Epoch 21/50\n",
      "311/311 [==============================] - 34s 108ms/step - loss: 0.0016 - accuracy: 0.9994 - val_loss: 0.4190 - val_accuracy: 0.9578\n",
      "Epoch 22/50\n",
      "311/311 [==============================] - 33s 105ms/step - loss: 0.0011 - accuracy: 0.9996 - val_loss: 0.4202 - val_accuracy: 0.9542\n",
      "Epoch 23/50\n",
      "311/311 [==============================] - 33s 107ms/step - loss: 0.0017 - accuracy: 0.9995 - val_loss: 0.4814 - val_accuracy: 0.9565\n",
      "Epoch 24/50\n",
      "311/311 [==============================] - 32s 103ms/step - loss: 0.0032 - accuracy: 0.9989 - val_loss: 0.3160 - val_accuracy: 0.9528\n",
      "Epoch 25/50\n",
      "311/311 [==============================] - 32s 103ms/step - loss: 0.0023 - accuracy: 0.9992 - val_loss: 0.4451 - val_accuracy: 0.8893\n",
      "Epoch 26/50\n",
      "311/311 [==============================] - 32s 103ms/step - loss: 0.0033 - accuracy: 0.9990 - val_loss: 0.3944 - val_accuracy: 0.9556\n",
      "Epoch 27/50\n",
      "311/311 [==============================] - 32s 103ms/step - loss: 0.0024 - accuracy: 0.9991 - val_loss: 0.3798 - val_accuracy: 0.9551\n",
      "Epoch 28/50\n",
      "311/311 [==============================] - 32s 102ms/step - loss: 0.0017 - accuracy: 0.9993 - val_loss: 0.3708 - val_accuracy: 0.9569\n",
      "Epoch 29/50\n",
      "311/311 [==============================] - 32s 103ms/step - loss: 0.0023 - accuracy: 0.9992 - val_loss: 0.4009 - val_accuracy: 0.9556\n",
      "Epoch 30/50\n",
      "311/311 [==============================] - 32s 103ms/step - loss: 9.8892e-04 - accuracy: 0.9995 - val_loss: 0.3627 - val_accuracy: 0.9592\n",
      "Epoch 31/50\n",
      "311/311 [==============================] - 32s 102ms/step - loss: 0.0011 - accuracy: 0.9996 - val_loss: 0.3810 - val_accuracy: 0.9460\n",
      "Epoch 32/50\n",
      "311/311 [==============================] - 32s 103ms/step - loss: 0.0017 - accuracy: 0.9994 - val_loss: 0.3915 - val_accuracy: 0.9560\n",
      "Epoch 33/50\n",
      "311/311 [==============================] - 33s 105ms/step - loss: 0.0017 - accuracy: 0.9994 - val_loss: 0.4097 - val_accuracy: 0.9469\n",
      "Epoch 34/50\n",
      "311/311 [==============================] - 33s 105ms/step - loss: 0.0027 - accuracy: 0.9992 - val_loss: 0.4225 - val_accuracy: 0.9583\n",
      "Epoch 35/50\n",
      "311/311 [==============================] - 32s 103ms/step - loss: 0.0020 - accuracy: 0.9993 - val_loss: 0.4100 - val_accuracy: 0.9546\n",
      "Epoch 36/50\n",
      "311/311 [==============================] - 32s 104ms/step - loss: 0.0022 - accuracy: 0.9994 - val_loss: 0.3948 - val_accuracy: 0.9560\n",
      "Epoch 37/50\n",
      "311/311 [==============================] - 31s 101ms/step - loss: 0.0028 - accuracy: 0.9992 - val_loss: 0.3892 - val_accuracy: 0.9578\n",
      "Epoch 38/50\n",
      "311/311 [==============================] - 32s 104ms/step - loss: 0.0013 - accuracy: 0.9995 - val_loss: 0.3491 - val_accuracy: 0.9592\n",
      "Epoch 39/50\n",
      "311/311 [==============================] - 32s 102ms/step - loss: 0.0016 - accuracy: 0.9996 - val_loss: 0.4038 - val_accuracy: 0.9551\n",
      "Epoch 40/50\n",
      "311/311 [==============================] - 33s 105ms/step - loss: 7.7248e-04 - accuracy: 0.9998 - val_loss: 0.4108 - val_accuracy: 0.9587\n",
      "Epoch 41/50\n",
      "311/311 [==============================] - 32s 103ms/step - loss: 0.0017 - accuracy: 0.9994 - val_loss: 0.4069 - val_accuracy: 0.9569\n",
      "Epoch 42/50\n",
      "311/311 [==============================] - 33s 106ms/step - loss: 0.0041 - accuracy: 0.9988 - val_loss: 0.3901 - val_accuracy: 0.9515\n",
      "Epoch 43/50\n",
      "311/311 [==============================] - 32s 103ms/step - loss: 0.0048 - accuracy: 0.9986 - val_loss: 0.3607 - val_accuracy: 0.9519\n",
      "Epoch 44/50\n",
      "311/311 [==============================] - 32s 103ms/step - loss: 0.0029 - accuracy: 0.9989 - val_loss: 0.4823 - val_accuracy: 0.9533\n",
      "Epoch 45/50\n",
      "311/311 [==============================] - 32s 102ms/step - loss: 0.0028 - accuracy: 0.9990 - val_loss: 0.4687 - val_accuracy: 0.9497\n",
      "Epoch 46/50\n",
      "311/311 [==============================] - 32s 103ms/step - loss: 0.0020 - accuracy: 0.9993 - val_loss: 0.3875 - val_accuracy: 0.9546\n",
      "Epoch 47/50\n",
      "311/311 [==============================] - 32s 104ms/step - loss: 0.0015 - accuracy: 0.9995 - val_loss: 0.3616 - val_accuracy: 0.9605\n",
      "Epoch 48/50\n",
      "311/311 [==============================] - 32s 104ms/step - loss: 0.0024 - accuracy: 0.9993 - val_loss: 0.3303 - val_accuracy: 0.9574\n",
      "Epoch 49/50\n",
      "311/311 [==============================] - 32s 103ms/step - loss: 0.0034 - accuracy: 0.9992 - val_loss: 0.4040 - val_accuracy: 0.9501\n",
      "Epoch 50/50\n",
      "311/311 [==============================] - 32s 103ms/step - loss: 0.0016 - accuracy: 0.9995 - val_loss: 0.3809 - val_accuracy: 0.9560\n"
     ]
    }
   ],
   "source": [
    "history = model.fit(np.array(X_train), \n",
    "                         y_train, \n",
    "                         batch_size = 64, \n",
    "                         verbose = 1, \n",
    "                         epochs = 50,     \n",
    "                         validation_split = 0.1,\n",
    "                         shuffle = False\n",
    "                      #   callbacks=callbacks\n",
    "                     )"
   ]
  },
  {
   "cell_type": "code",
   "execution_count": 61,
   "id": "0475daa6",
   "metadata": {},
   "outputs": [
    {
     "data": {
      "image/png": "[encoded data removed]",
      "text/plain": [
       "<Figure size 864x288 with 2 Axes>"
      ]
     },
     "metadata": {
      "needs_background": "light"
     },
     "output_type": "display_data"
    }
   ],
   "source": [
    "f, (ax1, ax2) = plt.subplots(1, 2, figsize=(12, 4))\n",
    "t = f.suptitle('CNN Performance', fontsize=12)\n",
    "f.subplots_adjust(top=0.85, wspace=0.3)\n",
    "\n",
    "max_epoch = len(history.history['accuracy'])+1\n",
    "epoch_list = list(range(1,max_epoch))\n",
    "ax1.plot(epoch_list, history.history['accuracy'], label='Train Accuracy')\n",
    "ax1.plot(epoch_list, history.history['val_accuracy'], label='Validation Accuracy')\n",
    "ax1.set_xticks(np.arange(1, max_epoch, 5))\n",
    "ax1.set_ylabel('Accuracy Value')\n",
    "ax1.set_xlabel('Epoch')\n",
    "ax1.set_title('Accuracy')\n",
    "l1 = ax1.legend(loc=\"best\")\n",
    "\n",
    "ax2.plot(epoch_list, history.history['loss'], label='Train Loss')\n",
    "ax2.plot(epoch_list, history.history['val_loss'], label='Validation Loss')\n",
    "ax2.set_xticks(np.arange(1, max_epoch, 5))\n",
    "ax2.set_ylabel('Loss Value')\n",
    "ax2.set_xlabel('Epoch')\n",
    "ax2.set_title('Loss')\n",
    "l2 = ax2.legend(loc=\"best\")\n",
    "\n"
   ]
  },
  {
   "cell_type": "code",
   "execution_count": 62,
   "id": "b0f2f48a",
   "metadata": {},
   "outputs": [
    {
     "name": "stdout",
     "output_type": "stream",
     "text": [
      "173/173 [==============================] - 2s 9ms/step - loss: 0.3687 - accuracy: 0.9552\n",
      "Test_Accuracy: 95.52%\n"
     ]
    }
   ],
   "source": [
    "print(\"Test_Accuracy: {:.2f}%\".format(model.evaluate(np.array(X_test), np.array(y_test))[1]*100))"
   ]
  },
  {
   "cell_type": "code",
   "execution_count": null,
   "id": "2d8a7203",
   "metadata": {},
   "outputs": [],
   "source": [
    "predictions = model.predict()"
   ]
  }
 ],
 "metadata": {
  "kernelspec": {
   "display_name": "Python 3",
   "language": "python",
   "name": "python3"
  },
  "language_info": {
   "codemirror_mode": {
    "name": "ipython",
    "version": 3
   },
   "file_extension": ".py",
   "mimetype": "text/x-python",
   "name": "python",
   "nbconvert_exporter": "python",
   "pygments_lexer": "ipython3",
   "version": "3.8.8"
  }
 },
 "nbformat": 4,
 "nbformat_minor": 5
}
